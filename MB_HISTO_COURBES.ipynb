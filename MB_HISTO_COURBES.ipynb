{
 "cells": [
  {
   "cell_type": "code",
   "execution_count": 3,
   "id": "5ea55274",
   "metadata": {},
   "outputs": [],
   "source": [
    "import numpy as np\n",
    "import pandas as pd\n",
    "import matplotlib.pyplot as plt\n",
    "import seaborn as sns\n",
    "from datetime import time, date, datetime\n",
    "#import missingno as msno\n",
    "import warnings\n",
    "warnings.filterwarnings('ignore')"
   ]
  },
  {
   "cell_type": "code",
   "execution_count": 4,
   "id": "7b1a9e91",
   "metadata": {},
   "outputs": [],
   "source": [
    "df = pd.read_csv(\"C:/Users/Bag's/Downloads/donnees/projet2/2018-2022_paludisme_SP.csv\")\n",
    "dg=df.copy()"
   ]
  },
  {
   "cell_type": "code",
   "execution_count": 21,
   "id": "04b7286d",
   "metadata": {
    "scrolled": true
   },
   "outputs": [],
   "source": [
    "#dg.head()"
   ]
  },
  {
   "cell_type": "markdown",
   "id": "e0f0ec14",
   "metadata": {},
   "source": [
    "Evaluation methode moyenne"
   ]
  },
  {
   "cell_type": "code",
   "execution_count": 22,
   "id": "283dbe63",
   "metadata": {},
   "outputs": [],
   "source": [
    "t94 = pd.read_csv(\"C:/Users/Bag's/Downloads/donnees/projet2/5%/DM_5_2018-2022_paludisme_SP.csv\")\n",
    "#t94.head(10)"
   ]
  },
  {
   "cell_type": "code",
   "execution_count": 23,
   "id": "158665fd",
   "metadata": {},
   "outputs": [
    {
     "name": "stdout",
     "output_type": "stream",
     "text": [
      "143\n"
     ]
    }
   ],
   "source": [
    "nb_nan1 = t94.isna().sum().sum()\n",
    "print(nb_nan1)"
   ]
  },
  {
   "cell_type": "code",
   "execution_count": 24,
   "id": "15002b1b",
   "metadata": {},
   "outputs": [
    {
     "data": {
      "text/html": [
       "<div>\n",
       "<style scoped>\n",
       "    .dataframe tbody tr th:only-of-type {\n",
       "        vertical-align: middle;\n",
       "    }\n",
       "\n",
       "    .dataframe tbody tr th {\n",
       "        vertical-align: top;\n",
       "    }\n",
       "\n",
       "    .dataframe thead th {\n",
       "        text-align: right;\n",
       "    }\n",
       "</style>\n",
       "<table border=\"1\" class=\"dataframe\">\n",
       "  <thead>\n",
       "    <tr style=\"text-align: right;\">\n",
       "      <th></th>\n",
       "      <th>Bankim</th>\n",
       "      <th>Banyo</th>\n",
       "      <th>Belel</th>\n",
       "      <th>Dang</th>\n",
       "      <th>Djohong</th>\n",
       "      <th>Meiganga</th>\n",
       "      <th>Ngaoundal</th>\n",
       "      <th>Ngaoundere_Rural</th>\n",
       "      <th>Ngaoundere_Urbain</th>\n",
       "      <th>Tibati</th>\n",
       "      <th>Tignere</th>\n",
       "    </tr>\n",
       "  </thead>\n",
       "  <tbody>\n",
       "    <tr>\n",
       "      <th>0</th>\n",
       "      <td>177.0</td>\n",
       "      <td>154.000000</td>\n",
       "      <td>120.0</td>\n",
       "      <td>93.000000</td>\n",
       "      <td>156.0</td>\n",
       "      <td>320.0</td>\n",
       "      <td>169.0</td>\n",
       "      <td>306.000000</td>\n",
       "      <td>536.0</td>\n",
       "      <td>180.0</td>\n",
       "      <td>176.000000</td>\n",
       "    </tr>\n",
       "    <tr>\n",
       "      <th>1</th>\n",
       "      <td>143.0</td>\n",
       "      <td>245.722449</td>\n",
       "      <td>175.0</td>\n",
       "      <td>134.000000</td>\n",
       "      <td>174.0</td>\n",
       "      <td>283.0</td>\n",
       "      <td>206.0</td>\n",
       "      <td>266.000000</td>\n",
       "      <td>500.0</td>\n",
       "      <td>182.0</td>\n",
       "      <td>193.000000</td>\n",
       "    </tr>\n",
       "    <tr>\n",
       "      <th>2</th>\n",
       "      <td>163.0</td>\n",
       "      <td>166.000000</td>\n",
       "      <td>147.0</td>\n",
       "      <td>227.210317</td>\n",
       "      <td>208.0</td>\n",
       "      <td>227.0</td>\n",
       "      <td>211.0</td>\n",
       "      <td>257.000000</td>\n",
       "      <td>473.0</td>\n",
       "      <td>206.0</td>\n",
       "      <td>265.262295</td>\n",
       "    </tr>\n",
       "    <tr>\n",
       "      <th>3</th>\n",
       "      <td>136.0</td>\n",
       "      <td>136.000000</td>\n",
       "      <td>118.0</td>\n",
       "      <td>122.000000</td>\n",
       "      <td>167.0</td>\n",
       "      <td>210.0</td>\n",
       "      <td>220.0</td>\n",
       "      <td>257.000000</td>\n",
       "      <td>449.0</td>\n",
       "      <td>216.0</td>\n",
       "      <td>258.000000</td>\n",
       "    </tr>\n",
       "    <tr>\n",
       "      <th>4</th>\n",
       "      <td>122.0</td>\n",
       "      <td>144.000000</td>\n",
       "      <td>134.0</td>\n",
       "      <td>93.000000</td>\n",
       "      <td>201.0</td>\n",
       "      <td>204.0</td>\n",
       "      <td>184.0</td>\n",
       "      <td>351.481633</td>\n",
       "      <td>466.0</td>\n",
       "      <td>199.0</td>\n",
       "      <td>218.000000</td>\n",
       "    </tr>\n",
       "  </tbody>\n",
       "</table>\n",
       "</div>"
      ],
      "text/plain": [
       "   Bankim       Banyo  Belel        Dang  Djohong  Meiganga  Ngaoundal  \\\n",
       "0   177.0  154.000000  120.0   93.000000    156.0     320.0      169.0   \n",
       "1   143.0  245.722449  175.0  134.000000    174.0     283.0      206.0   \n",
       "2   163.0  166.000000  147.0  227.210317    208.0     227.0      211.0   \n",
       "3   136.0  136.000000  118.0  122.000000    167.0     210.0      220.0   \n",
       "4   122.0  144.000000  134.0   93.000000    201.0     204.0      184.0   \n",
       "\n",
       "   Ngaoundere_Rural  Ngaoundere_Urbain  Tibati     Tignere  \n",
       "0        306.000000              536.0   180.0  176.000000  \n",
       "1        266.000000              500.0   182.0  193.000000  \n",
       "2        257.000000              473.0   206.0  265.262295  \n",
       "3        257.000000              449.0   216.0  258.000000  \n",
       "4        351.481633              466.0   199.0  218.000000  "
      ]
     },
     "execution_count": 24,
     "metadata": {},
     "output_type": "execute_result"
    }
   ],
   "source": [
    "t93 = pd.read_csv(\"C:/Users/Bag's/Downloads/donnees/projet2/5%/DM_IMP_5_2018-2022_paludisme_SP.csv\")\n",
    "t93.head()"
   ]
  },
  {
   "cell_type": "code",
   "execution_count": 25,
   "id": "e1156f64",
   "metadata": {},
   "outputs": [],
   "source": [
    "# Import the first table\n",
    "t92 = dg\n",
    "# Import the second table\n",
    "t91= t93\n",
    "# Create a new table containing the difference between each value of the cells\n",
    "dif1 = t92.copy()\n",
    "for column in t92.columns:\n",
    "    dif1[column] = t92[column] - t91[column]\n",
    "# Print the new table\n",
    "#print(dif1)"
   ]
  },
  {
   "cell_type": "code",
   "execution_count": 26,
   "id": "ad281c37",
   "metadata": {},
   "outputs": [
    {
     "name": "stdout",
     "output_type": "stream",
     "text": [
      "11268.276527723512\n"
     ]
    }
   ],
   "source": [
    "df_abs1= dif1.abs()\n",
    "# Calculate the sum of all the values\n",
    "sum_of_values1 = df_abs1.sum().sum()\n",
    "# Print the sum of the values\n",
    "print(sum_of_values1)"
   ]
  },
  {
   "cell_type": "code",
   "execution_count": 31,
   "id": "b3266894",
   "metadata": {},
   "outputs": [
    {
     "name": "stdout",
     "output_type": "stream",
     "text": [
      "78.79913655750708\n"
     ]
    }
   ],
   "source": [
    "ratio_of_missing_values1 = sum_of_values1/nb_nan1\n",
    "print(ratio_of_missing_values1)"
   ]
  },
  {
   "cell_type": "code",
   "execution_count": 32,
   "id": "47b27f75",
   "metadata": {},
   "outputs": [],
   "source": [
    "t90 = pd.read_csv(\"C:/Users/Bag's/Downloads/donnees/projet2/10%/DM_10_2018-2022_paludisme_SP.csv\")\n",
    "#t90.head(10)"
   ]
  },
  {
   "cell_type": "code",
   "execution_count": 33,
   "id": "8e2885b8",
   "metadata": {},
   "outputs": [
    {
     "name": "stdout",
     "output_type": "stream",
     "text": [
      "286\n"
     ]
    }
   ],
   "source": [
    "nb_nan2 = t90.isna().sum().sum()\n",
    "print(nb_nan2)"
   ]
  },
  {
   "cell_type": "code",
   "execution_count": 34,
   "id": "1e498e27",
   "metadata": {},
   "outputs": [],
   "source": [
    "t89 = pd.read_csv(\"C:/Users/Bag's/Downloads/donnees/projet2/10%/DM_IMP_10_2018-2022_paludisme_SP.csv\")\n",
    "#t89.head()"
   ]
  },
  {
   "cell_type": "code",
   "execution_count": 36,
   "id": "b63320a5",
   "metadata": {},
   "outputs": [],
   "source": [
    "# Import the first table\n",
    "t87 = dg\n",
    "# Import the second table\n",
    "t86= t89\n",
    "# Create a new table containing the difference between each value of the cells\n",
    "dif2 = t87.copy()\n",
    "for column in t87.columns:\n",
    "    dif2[column] = t87[column] - t86[column]\n",
    "# Print the new table\n",
    "#print(dif2)"
   ]
  },
  {
   "cell_type": "code",
   "execution_count": 37,
   "id": "559cdcf5",
   "metadata": {},
   "outputs": [
    {
     "name": "stdout",
     "output_type": "stream",
     "text": [
      "19748.282793126265\n"
     ]
    }
   ],
   "source": [
    "df_abs2= dif2.abs()\n",
    "# Calculate the sum of all the values\n",
    "sum_of_values2 = df_abs2.sum().sum()\n",
    "# Print the sum of the values\n",
    "print(sum_of_values2)"
   ]
  },
  {
   "cell_type": "code",
   "execution_count": 38,
   "id": "f612e4cc",
   "metadata": {},
   "outputs": [
    {
     "name": "stdout",
     "output_type": "stream",
     "text": [
      "69.04993983610582\n"
     ]
    }
   ],
   "source": [
    "ratio_of_missing_values2 = sum_of_values2/nb_nan2\n",
    "print(ratio_of_missing_values2)"
   ]
  },
  {
   "cell_type": "code",
   "execution_count": 39,
   "id": "8eee2b25",
   "metadata": {},
   "outputs": [],
   "source": [
    "t85 = pd.read_csv(\"C:/Users/Bag's/Downloads/donnees/projet2/20%/DM_20_2018-2022_paludisme_SP.csv\")\n",
    "#t85.head(10)"
   ]
  },
  {
   "cell_type": "code",
   "execution_count": 40,
   "id": "41705531",
   "metadata": {},
   "outputs": [
    {
     "name": "stdout",
     "output_type": "stream",
     "text": [
      "572\n"
     ]
    }
   ],
   "source": [
    "nb_nan3 = t85.isna().sum().sum()\n",
    "print(nb_nan3)"
   ]
  },
  {
   "cell_type": "code",
   "execution_count": 41,
   "id": "6cd1f037",
   "metadata": {},
   "outputs": [],
   "source": [
    "t84 = pd.read_csv(\"C:/Users/Bag's/Downloads/donnees/projet2/20%/DM_IMP_20_2018-2022_paludisme_SP.csv\")\n",
    "#t84.head()"
   ]
  },
  {
   "cell_type": "code",
   "execution_count": 44,
   "id": "93ed41fc",
   "metadata": {},
   "outputs": [],
   "source": [
    "# Import the first table\n",
    "t83 = dg\n",
    "# Import the second table\n",
    "t82= t84\n",
    "# Create a new table containing the difference between each value of the cells\n",
    "dif3 = t83.copy()\n",
    "for column in t83.columns:\n",
    "    dif3[column] = t83[column] - t82[column]\n",
    "# Print the new table\n",
    "#print(dif3)"
   ]
  },
  {
   "cell_type": "code",
   "execution_count": 43,
   "id": "c045062e",
   "metadata": {},
   "outputs": [
    {
     "name": "stdout",
     "output_type": "stream",
     "text": [
      "42724.42453187269\n"
     ]
    }
   ],
   "source": [
    "df_abs3= dif3.abs()\n",
    "# Calculate the sum of all the values\n",
    "sum_of_values3 = df_abs3.sum().sum()\n",
    "# Print the sum of the values\n",
    "print(sum_of_values3)"
   ]
  },
  {
   "cell_type": "code",
   "execution_count": 45,
   "id": "2df83341",
   "metadata": {},
   "outputs": [
    {
     "name": "stdout",
     "output_type": "stream",
     "text": [
      "74.69304988089631\n"
     ]
    }
   ],
   "source": [
    "ratio_of_missing_values3 = sum_of_values3/nb_nan3\n",
    "print(ratio_of_missing_values3)"
   ]
  },
  {
   "cell_type": "code",
   "execution_count": 46,
   "id": "8721caac",
   "metadata": {},
   "outputs": [
    {
     "name": "stdout",
     "output_type": "stream",
     "text": [
      "le ratio pour un taux de 5% est 78.79913655750708\n",
      "le ratio pour un taux de 10% est 69.04993983610582\n",
      "le ratio pour un taux de 20% est 74.69304988089631\n"
     ]
    }
   ],
   "source": [
    "print('le ratio pour un taux de 5% est',ratio_of_missing_values1)\n",
    "print('le ratio pour un taux de 10% est',ratio_of_missing_values2)\n",
    "print('le ratio pour un taux de 20% est',ratio_of_missing_values3)"
   ]
  },
  {
   "cell_type": "markdown",
   "id": "84c2e521",
   "metadata": {},
   "source": [
    "histogramme methode par la MOYENNE"
   ]
  },
  {
   "cell_type": "code",
   "execution_count": 47,
   "id": "931262a4",
   "metadata": {},
   "outputs": [
    {
     "data": {
      "image/png": "[encoded data removed]",
      "text/plain": [
       "<Figure size 640x480 with 1 Axes>"
      ]
     },
     "metadata": {},
     "output_type": "display_data"
    }
   ],
   "source": [
    "# Create an empty plot\n",
    "fig=plt.figure()\n",
    "ax=fig.add_axes([0,0,1,1])\n",
    "taux=['5%','10%','20%']\n",
    "r1=ratio_of_missing_values1*0.01\n",
    "r2=ratio_of_missing_values2*0.01\n",
    "r3=ratio_of_missing_values3*0.01\n",
    "ratiaux=[r1,r2,r3]\n",
    "ax.set_xlabel(\"Taux des DM\")\n",
    "# Set the y-axis label\n",
    "ax.set_ylabel(\"Moyenne Absolue des Biais(MAB)\")\n",
    "ax.bar(taux,ratiaux,color='silver',width=0.12)\n",
    "plt.grid(b=True, axis='y', alpha=0.2)\n",
    "# Show the plot\n",
    "plt.show()"
   ]
  },
  {
   "cell_type": "markdown",
   "id": "7c7e410f",
   "metadata": {},
   "source": [
    "Evaluation methode MICE"
   ]
  },
  {
   "cell_type": "code",
   "execution_count": 48,
   "id": "4fed154e",
   "metadata": {},
   "outputs": [],
   "source": [
    "t80 = pd.read_csv(\"C:/Users/Bag's/Downloads/donnees/projet2/5%/DM5_IMP_MICE_2018-2022_paludisme_SP.csv\")\n",
    "#t80.head(10)"
   ]
  },
  {
   "cell_type": "code",
   "execution_count": 49,
   "id": "4c8404c2",
   "metadata": {},
   "outputs": [],
   "source": [
    "t79 = pd.read_csv(\"C:/Users/Bag's/Downloads/donnees/projet2/5%/DM_5_2018-2022_paludisme_SP.csv\")\n",
    "#t79.head(10)"
   ]
  },
  {
   "cell_type": "code",
   "execution_count": 50,
   "id": "13af10ec",
   "metadata": {},
   "outputs": [
    {
     "name": "stdout",
     "output_type": "stream",
     "text": [
      "143\n"
     ]
    }
   ],
   "source": [
    "nb_nan4 = t79.isna().sum().sum()\n",
    "print(nb_nan4)"
   ]
  },
  {
   "cell_type": "code",
   "execution_count": 51,
   "id": "9dace514",
   "metadata": {},
   "outputs": [],
   "source": [
    "# Import the first table\n",
    "t78 = dg\n",
    "# Import the second table\n",
    "t77= t80\n",
    "# Create a new table containing the difference between each value of the cells\n",
    "dif4 = t78.copy()\n",
    "for column in t78.columns:\n",
    "    dif4[column] = t78[column] - t77[column]\n",
    "# Print the new table\n",
    "#print(dif1)"
   ]
  },
  {
   "cell_type": "code",
   "execution_count": 52,
   "id": "490489cd",
   "metadata": {},
   "outputs": [
    {
     "name": "stdout",
     "output_type": "stream",
     "text": [
      "9954.0\n"
     ]
    }
   ],
   "source": [
    "df_abs4= dif4.abs()\n",
    "# Calculate the sum of all the values\n",
    "sum_of_values4 = df_abs4.sum().sum()\n",
    "# Print the sum of the values\n",
    "print(sum_of_values4)"
   ]
  },
  {
   "cell_type": "code",
   "execution_count": 53,
   "id": "5ef01f6f",
   "metadata": {},
   "outputs": [
    {
     "name": "stdout",
     "output_type": "stream",
     "text": [
      "69.60839160839161\n"
     ]
    }
   ],
   "source": [
    "ratio_of_missing_values4 = sum_of_values4/nb_nan4\n",
    "print(ratio_of_missing_values4)"
   ]
  },
  {
   "cell_type": "code",
   "execution_count": 54,
   "id": "501c9c80",
   "metadata": {},
   "outputs": [],
   "source": [
    "t76 = pd.read_csv(\"C:/Users/Bag's/Downloads/donnees/projet2/10%/DM10_IMP_MICE_2018-2022_paludisme_SP.csv\")\n",
    "#t76"
   ]
  },
  {
   "cell_type": "code",
   "execution_count": 55,
   "id": "5ff43ea6",
   "metadata": {},
   "outputs": [],
   "source": [
    "t75 = pd.read_csv(\"C:/Users/Bag's/Downloads/donnees/projet2/10%/DM_10_2018-2022_paludisme_SP.csv\")\n",
    "#t79.head(10)"
   ]
  },
  {
   "cell_type": "code",
   "execution_count": 56,
   "id": "3b78e0be",
   "metadata": {},
   "outputs": [
    {
     "name": "stdout",
     "output_type": "stream",
     "text": [
      "286\n"
     ]
    }
   ],
   "source": [
    "nb_nan5 = t75.isna().sum().sum()\n",
    "print(nb_nan5)"
   ]
  },
  {
   "cell_type": "code",
   "execution_count": 58,
   "id": "582b658d",
   "metadata": {},
   "outputs": [],
   "source": [
    "# Import the first table\n",
    "t74 = dg\n",
    "# Import the second table\n",
    "t73= t76\n",
    "# Create a new table containing the difference between each value of the cells\n",
    "dif5 = t74.copy()\n",
    "for column in t74.columns:\n",
    "    dif5[column] = t74[column] - t73[column]\n",
    "# Print the new table\n",
    "#print(dif1)"
   ]
  },
  {
   "cell_type": "code",
   "execution_count": 59,
   "id": "a0c83af6",
   "metadata": {},
   "outputs": [
    {
     "name": "stdout",
     "output_type": "stream",
     "text": [
      "18502.098039215685\n"
     ]
    }
   ],
   "source": [
    "df_abs5= dif5.abs()\n",
    "# Calculate the sum of all the values\n",
    "sum_of_values5 = df_abs5.sum().sum()\n",
    "# Print the sum of the values\n",
    "print(sum_of_values5)"
   ]
  },
  {
   "cell_type": "code",
   "execution_count": 60,
   "id": "c062c764",
   "metadata": {},
   "outputs": [
    {
     "name": "stdout",
     "output_type": "stream",
     "text": [
      "64.69265048676813\n"
     ]
    }
   ],
   "source": [
    "ratio_of_missing_values5 = sum_of_values5/nb_nan5\n",
    "print(ratio_of_missing_values5)"
   ]
  },
  {
   "cell_type": "code",
   "execution_count": 61,
   "id": "ba3d05aa",
   "metadata": {},
   "outputs": [],
   "source": [
    "t72 = pd.read_csv(\"C:/Users/Bag's/Downloads/donnees/projet2/20%/DM20_IMP_MICE_2018-2022_paludisme_SP.csv\")\n",
    "#t76"
   ]
  },
  {
   "cell_type": "code",
   "execution_count": 65,
   "id": "30081611",
   "metadata": {},
   "outputs": [],
   "source": [
    "t71 = pd.read_csv(\"C:/Users/Bag's/Downloads/donnees/projet2/20%/DM_20_2018-2022_paludisme_SP.csv\")\n",
    "#t79.head(10)"
   ]
  },
  {
   "cell_type": "code",
   "execution_count": 66,
   "id": "e65aff83",
   "metadata": {},
   "outputs": [
    {
     "name": "stdout",
     "output_type": "stream",
     "text": [
      "572\n"
     ]
    }
   ],
   "source": [
    "nb_nan6 = t71.isna().sum().sum()\n",
    "print(nb_nan6)"
   ]
  },
  {
   "cell_type": "code",
   "execution_count": 67,
   "id": "de01bc92",
   "metadata": {},
   "outputs": [],
   "source": [
    "# Import the first table\n",
    "t70 = dg\n",
    "# Import the second table\n",
    "t69= t72\n",
    "# Create a new table containing the difference between each value of the cells\n",
    "dif6 = t70.copy()\n",
    "for column in t70.columns:\n",
    "    dif6[column] = t70[column] - t69[column]\n",
    "# Print the new table\n",
    "#print(dif1)"
   ]
  },
  {
   "cell_type": "code",
   "execution_count": 68,
   "id": "89d21345",
   "metadata": {},
   "outputs": [
    {
     "name": "stdout",
     "output_type": "stream",
     "text": [
      "41099.0\n"
     ]
    }
   ],
   "source": [
    "df_abs6= dif6.abs()\n",
    "# Calculate the sum of all the values\n",
    "sum_of_values6 = df_abs6.sum().sum()\n",
    "# Print the sum of the values\n",
    "print(sum_of_values6)"
   ]
  },
  {
   "cell_type": "code",
   "execution_count": 69,
   "id": "48fba237",
   "metadata": {},
   "outputs": [
    {
     "name": "stdout",
     "output_type": "stream",
     "text": [
      "71.8513986013986\n"
     ]
    }
   ],
   "source": [
    "ratio_of_missing_values6 = sum_of_values6/nb_nan6\n",
    "print(ratio_of_missing_values6)"
   ]
  },
  {
   "cell_type": "code",
   "execution_count": 70,
   "id": "aacb6c11",
   "metadata": {},
   "outputs": [
    {
     "name": "stdout",
     "output_type": "stream",
     "text": [
      "le ratio pour un taux de 5% est 69.60839160839161\n",
      "le ratio pour un taux de 10% est 64.69265048676813\n",
      "le ratio pour un taux de 20% est 71.8513986013986\n"
     ]
    }
   ],
   "source": [
    "print('le ratio pour un taux de 5% est',ratio_of_missing_values4)\n",
    "print('le ratio pour un taux de 10% est',ratio_of_missing_values5)\n",
    "print('le ratio pour un taux de 20% est',ratio_of_missing_values6)"
   ]
  },
  {
   "cell_type": "markdown",
   "id": "4b798e44",
   "metadata": {},
   "source": [
    "histogramme methode par la MICE"
   ]
  },
  {
   "cell_type": "code",
   "execution_count": 87,
   "id": "ba46f592",
   "metadata": {
    "scrolled": false
   },
   "outputs": [
    {
     "data": {
      "image/png": "[encoded data removed]",
      "text/plain": [
       "<Figure size 640x480 with 1 Axes>"
      ]
     },
     "metadata": {},
     "output_type": "display_data"
    }
   ],
   "source": [
    "# Create an empty plot\n",
    "fig=plt.figure()\n",
    "ax=fig.add_axes([0,0,1,1])\n",
    "taux=['5%','10%','20%']\n",
    "r4=ratio_of_missing_values4*0.01\n",
    "r5=ratio_of_missing_values5*0.01\n",
    "r6=ratio_of_missing_values6*0.01\n",
    "ratiaux=[r4,r5,r6]\n",
    "ax.set_xlabel(\"Taux des DM\")\n",
    "# Set the y-axis label\n",
    "ax.set_ylabel(\"Moyenne Absolue des Biais(MAB)\")\n",
    "ax.bar(taux,ratiaux,color='lightcoral',width=0.12)\n",
    "plt.grid(b=True, axis='y', alpha=0.2)\n",
    "# Show the plot\n",
    "plt.show()"
   ]
  },
  {
   "cell_type": "markdown",
   "id": "d1862df8",
   "metadata": {},
   "source": [
    "Evaluation methode KNN"
   ]
  },
  {
   "cell_type": "code",
   "execution_count": 74,
   "id": "d0d403d9",
   "metadata": {},
   "outputs": [],
   "source": [
    "t60 = pd.read_csv(\"C:/Users/Bag's/Downloads/donnees/projet2/5%/DM5_IMP_KNN_2018-2022_paludisme_SP.csv\")\n",
    "#t80.head(10)"
   ]
  },
  {
   "cell_type": "code",
   "execution_count": 76,
   "id": "517f7032",
   "metadata": {},
   "outputs": [],
   "source": [
    "t59 = pd.read_csv(\"C:/Users/Bag's/Downloads/donnees/projet2/5%/DM_5_2018-2022_paludisme_SP.csv\")\n",
    "#t79.head(10)"
   ]
  },
  {
   "cell_type": "code",
   "execution_count": 77,
   "id": "c3a683e3",
   "metadata": {},
   "outputs": [
    {
     "name": "stdout",
     "output_type": "stream",
     "text": [
      "143\n"
     ]
    }
   ],
   "source": [
    "nb_nan7 = t59.isna().sum().sum()\n",
    "print(nb_nan7)"
   ]
  },
  {
   "cell_type": "code",
   "execution_count": 79,
   "id": "d9ae72f3",
   "metadata": {},
   "outputs": [],
   "source": [
    "# Import the first table\n",
    "t58 = dg\n",
    "# Import the second table\n",
    "t57= t60\n",
    "# Create a new table containing the difference between each value of the cells\n",
    "dif7 = t58.copy()\n",
    "for column in t58.columns:\n",
    "    dif7[column] = t58[column] - t57[column]\n",
    "# Print the new table\n",
    "#print(dif1)"
   ]
  },
  {
   "cell_type": "code",
   "execution_count": 80,
   "id": "cfd5fb7a",
   "metadata": {},
   "outputs": [
    {
     "name": "stdout",
     "output_type": "stream",
     "text": [
      "7852.0\n"
     ]
    }
   ],
   "source": [
    "df_abs7= dif7.abs()\n",
    "# Calculate the sum of all the values\n",
    "sum_of_values7 = df_abs7.sum().sum()\n",
    "# Print the sum of the values\n",
    "print(sum_of_values7)"
   ]
  },
  {
   "cell_type": "code",
   "execution_count": 81,
   "id": "0b7567b8",
   "metadata": {},
   "outputs": [
    {
     "name": "stdout",
     "output_type": "stream",
     "text": [
      "54.90909090909091\n"
     ]
    }
   ],
   "source": [
    "ratio_of_missing_values7 = sum_of_values7/nb_nan7\n",
    "print(ratio_of_missing_values7)"
   ]
  },
  {
   "cell_type": "code",
   "execution_count": 82,
   "id": "0322c6c7",
   "metadata": {},
   "outputs": [],
   "source": [
    "t56 = pd.read_csv(\"C:/Users/Bag's/Downloads/donnees/projet2/10%/DM10_IMP_KNN_2018-2022_paludisme_SP.csv\")\n",
    "#t80.head(10)"
   ]
  },
  {
   "cell_type": "code",
   "execution_count": 83,
   "id": "fb095b42",
   "metadata": {},
   "outputs": [],
   "source": [
    "t55 = pd.read_csv(\"C:/Users/Bag's/Downloads/donnees/projet2/10%/DM_10_2018-2022_paludisme_SP.csv\")\n",
    "#t79.head(10)"
   ]
  },
  {
   "cell_type": "code",
   "execution_count": 103,
   "id": "11d5e531",
   "metadata": {},
   "outputs": [
    {
     "name": "stdout",
     "output_type": "stream",
     "text": [
      "286\n"
     ]
    }
   ],
   "source": [
    "nb_nan8 = t55.isna().sum().sum()\n",
    "print(nb_nan8)"
   ]
  },
  {
   "cell_type": "code",
   "execution_count": 104,
   "id": "db4ffbdc",
   "metadata": {},
   "outputs": [],
   "source": [
    "# Import the first table\n",
    "t54 = dg\n",
    "# Import the second table\n",
    "t53= t56\n",
    "# Create a new table containing the difference between each value of the cells\n",
    "dif8 = t54.copy()\n",
    "for column in t54.columns:\n",
    "    dif8[column] = t54[column] - t53[column]\n",
    "# Print the new table\n",
    "#print(dif1)"
   ]
  },
  {
   "cell_type": "code",
   "execution_count": 105,
   "id": "72d04e60",
   "metadata": {},
   "outputs": [
    {
     "name": "stdout",
     "output_type": "stream",
     "text": [
      "14532.098039215685\n"
     ]
    }
   ],
   "source": [
    "df_abs8= dif8.abs()\n",
    "# Calculate the sum of all the values\n",
    "sum_of_values8 = df_abs8.sum().sum()\n",
    "# Print the sum of the values\n",
    "print(sum_of_values8)"
   ]
  },
  {
   "cell_type": "code",
   "execution_count": 106,
   "id": "1588a9f9",
   "metadata": {},
   "outputs": [
    {
     "name": "stdout",
     "output_type": "stream",
     "text": [
      "50.81153160564925\n"
     ]
    }
   ],
   "source": [
    "ratio_of_missing_values8 = sum_of_values8/nb_nan8\n",
    "print(ratio_of_missing_values8)"
   ]
  },
  {
   "cell_type": "code",
   "execution_count": 107,
   "id": "1a2fb569",
   "metadata": {},
   "outputs": [],
   "source": [
    "t52 = pd.read_csv(\"C:/Users/Bag's/Downloads/donnees/projet2/20%/DM20_IMP_KNN_2018-2022_paludisme_SP.csv\")\n",
    "#t80.head(10)"
   ]
  },
  {
   "cell_type": "code",
   "execution_count": 108,
   "id": "d8cd3d65",
   "metadata": {},
   "outputs": [],
   "source": [
    "t51 = pd.read_csv(\"C:/Users/Bag's/Downloads/donnees/projet2/20%/DM_20_2018-2022_paludisme_SP.csv\")\n",
    "#t79.head(10)"
   ]
  },
  {
   "cell_type": "code",
   "execution_count": 109,
   "id": "d9f8d7d3",
   "metadata": {},
   "outputs": [
    {
     "name": "stdout",
     "output_type": "stream",
     "text": [
      "572\n"
     ]
    }
   ],
   "source": [
    "nb_nan9 = t51.isna().sum().sum()\n",
    "print(nb_nan9)"
   ]
  },
  {
   "cell_type": "code",
   "execution_count": 110,
   "id": "23698016",
   "metadata": {},
   "outputs": [],
   "source": [
    "# Import the first table\n",
    "t50 = dg\n",
    "# Import the second table\n",
    "t49= t52\n",
    "# Create a new table containing the difference between each value of the cells\n",
    "dif9 = t50.copy()\n",
    "for column in t50.columns:\n",
    "    dif9[column] = t50[column] - t49[column]\n",
    "# Print the new table\n",
    "#print(dif1)"
   ]
  },
  {
   "cell_type": "code",
   "execution_count": 111,
   "id": "1a70e703",
   "metadata": {},
   "outputs": [
    {
     "name": "stdout",
     "output_type": "stream",
     "text": [
      "34488.0\n"
     ]
    }
   ],
   "source": [
    "df_abs9= dif9.abs()\n",
    "# Calculate the sum of all the values\n",
    "sum_of_values9 = df_abs9.sum().sum()\n",
    "# Print the sum of the values\n",
    "print(sum_of_values9)"
   ]
  },
  {
   "cell_type": "code",
   "execution_count": 112,
   "id": "75a7c8d5",
   "metadata": {},
   "outputs": [
    {
     "name": "stdout",
     "output_type": "stream",
     "text": [
      "60.29370629370629\n"
     ]
    }
   ],
   "source": [
    "ratio_of_missing_values9 = sum_of_values9/nb_nan9\n",
    "print(ratio_of_missing_values9)"
   ]
  },
  {
   "cell_type": "code",
   "execution_count": 113,
   "id": "839490af",
   "metadata": {},
   "outputs": [
    {
     "name": "stdout",
     "output_type": "stream",
     "text": [
      "le ratio pour un taux de 5% est 54.90909090909091\n",
      "le ratio pour un taux de 10% est 50.81153160564925\n",
      "le ratio pour un taux de 20% est 60.29370629370629\n"
     ]
    }
   ],
   "source": [
    "print('le ratio pour un taux de 5% est',ratio_of_missing_values7)\n",
    "print('le ratio pour un taux de 10% est',ratio_of_missing_values8)\n",
    "print('le ratio pour un taux de 20% est',ratio_of_missing_values9)"
   ]
  },
  {
   "cell_type": "markdown",
   "id": "ca2ba3dd",
   "metadata": {},
   "source": [
    "histogramme methode par la KNN"
   ]
  },
  {
   "cell_type": "code",
   "execution_count": 114,
   "id": "6ffe1d03",
   "metadata": {
    "scrolled": false
   },
   "outputs": [
    {
     "data": {
      "image/png": "[encoded data removed]",
      "text/plain": [
       "<Figure size 640x480 with 1 Axes>"
      ]
     },
     "metadata": {},
     "output_type": "display_data"
    }
   ],
   "source": [
    "# Create an empty plot\n",
    "fig=plt.figure()\n",
    "ax=fig.add_axes([0,0,1,1])\n",
    "taux=['5%','10%','20%']\n",
    "r7=ratio_of_missing_values7*0.01\n",
    "r8=ratio_of_missing_values8*0.01\n",
    "r9=ratio_of_missing_values9*0.01\n",
    "ratiaux=[r7,r8,r9]\n",
    "ax.set_xlabel(\"Taux des DM\")\n",
    "# Set the y-axis label\n",
    "ax.set_ylabel(\"Moyenne Absolue des Biais(MAB)\")\n",
    "ax.bar(taux,ratiaux,color='lightsteelblue',width=0.12)\n",
    "plt.grid(b=True, axis='y', alpha=0.2)\n",
    "# Show the plot\n",
    "plt.show()"
   ]
  },
  {
   "cell_type": "markdown",
   "id": "381029a2",
   "metadata": {},
   "source": [
    "Evaluation methode missForest"
   ]
  },
  {
   "cell_type": "code",
   "execution_count": 115,
   "id": "22ad429f",
   "metadata": {},
   "outputs": [],
   "source": [
    "t20 = pd.read_csv(\"C:/Users/Bag's/Downloads/donnees/projet2/5%/DM5_missF_2018-2022_paludisme_SP.csv\")\n",
    "#t80.head(10)"
   ]
  },
  {
   "cell_type": "code",
   "execution_count": 116,
   "id": "99d2f337",
   "metadata": {},
   "outputs": [],
   "source": [
    "t19 = pd.read_csv(\"C:/Users/Bag's/Downloads/donnees/projet2/5%/DM_5_2018-2022_paludisme_SP.csv\")\n",
    "#t79.head(10)"
   ]
  },
  {
   "cell_type": "code",
   "execution_count": 117,
   "id": "fdc5b68f",
   "metadata": {},
   "outputs": [
    {
     "name": "stdout",
     "output_type": "stream",
     "text": [
      "143\n"
     ]
    }
   ],
   "source": [
    "nb_nan10 = t19.isna().sum().sum()\n",
    "print(nb_nan10)"
   ]
  },
  {
   "cell_type": "code",
   "execution_count": 118,
   "id": "0b2b5223",
   "metadata": {},
   "outputs": [],
   "source": [
    "# Import the first table\n",
    "t18 = dg\n",
    "# Import the second table\n",
    "t17= t20\n",
    "# Create a new table containing the difference between each value of the cells\n",
    "dif10 = t18.copy()\n",
    "for column in t18.columns:\n",
    "    dif10[column] = t18[column] - t17[column]\n",
    "# Print the new table\n",
    "#print(dif1)"
   ]
  },
  {
   "cell_type": "code",
   "execution_count": 119,
   "id": "079c1972",
   "metadata": {},
   "outputs": [
    {
     "name": "stdout",
     "output_type": "stream",
     "text": [
      "6717.490980392157\n"
     ]
    }
   ],
   "source": [
    "df_abs10= dif10.abs()\n",
    "# Calculate the sum of all the values\n",
    "sum_of_values10 = df_abs10.sum().sum()\n",
    "# Print the sum of the values\n",
    "print(sum_of_values10)"
   ]
  },
  {
   "cell_type": "code",
   "execution_count": 120,
   "id": "6971f04c",
   "metadata": {},
   "outputs": [
    {
     "name": "stdout",
     "output_type": "stream",
     "text": [
      "46.97546140134376\n"
     ]
    }
   ],
   "source": [
    "ratio_of_missing_values10 = sum_of_values10/nb_nan10\n",
    "print(ratio_of_missing_values10)"
   ]
  },
  {
   "cell_type": "code",
   "execution_count": 121,
   "id": "7a6fd9f0",
   "metadata": {},
   "outputs": [],
   "source": [
    "t16= pd.read_csv(\"C:/Users/Bag's/Downloads/donnees/projet2/10%/DM10_IMP_KNN_2018-2022_paludisme_SP.csv\")\n",
    "#t80.head(10)"
   ]
  },
  {
   "cell_type": "code",
   "execution_count": 122,
   "id": "81fd082f",
   "metadata": {},
   "outputs": [],
   "source": [
    "t15 = pd.read_csv(\"C:/Users/Bag's/Downloads/donnees/projet2/10%/DM_10_2018-2022_paludisme_SP.csv\")\n",
    "#t79.head(10)"
   ]
  },
  {
   "cell_type": "code",
   "execution_count": 123,
   "id": "f30a23d6",
   "metadata": {},
   "outputs": [
    {
     "name": "stdout",
     "output_type": "stream",
     "text": [
      "286\n"
     ]
    }
   ],
   "source": [
    "nb_nan11 = t15.isna().sum().sum()\n",
    "print(nb_nan11)"
   ]
  },
  {
   "cell_type": "code",
   "execution_count": 124,
   "id": "2e0fcac8",
   "metadata": {},
   "outputs": [],
   "source": [
    "# Import the first table\n",
    "t14 = dg\n",
    "# Import the second table\n",
    "t13= t16\n",
    "# Create a new table containing the difference between each value of the cells\n",
    "dif11 = t14.copy()\n",
    "for column in t14.columns:\n",
    "    dif11[column] = t14[column] - t13[column]\n",
    "# Print the new table\n",
    "#print(dif1)"
   ]
  },
  {
   "cell_type": "code",
   "execution_count": 125,
   "id": "4fb4b336",
   "metadata": {},
   "outputs": [
    {
     "name": "stdout",
     "output_type": "stream",
     "text": [
      "14532.098039215685\n"
     ]
    }
   ],
   "source": [
    "df_abs11= dif11.abs()\n",
    "# Calculate the sum of all the values\n",
    "sum_of_values11 = df_abs11.sum().sum()\n",
    "# Print the sum of the values\n",
    "print(sum_of_values11)"
   ]
  },
  {
   "cell_type": "code",
   "execution_count": 126,
   "id": "ecde7ce9",
   "metadata": {},
   "outputs": [
    {
     "name": "stdout",
     "output_type": "stream",
     "text": [
      "50.81153160564925\n"
     ]
    }
   ],
   "source": [
    "ratio_of_missing_values11 = sum_of_values11/nb_nan11\n",
    "print(ratio_of_missing_values11)"
   ]
  },
  {
   "cell_type": "code",
   "execution_count": 127,
   "id": "30e02a28",
   "metadata": {},
   "outputs": [],
   "source": [
    "t12 = pd.read_csv(\"C:/Users/Bag's/Downloads/donnees/projet2/20%/DM20_IMP_KNN_2018-2022_paludisme_SP.csv\")\n",
    "#t80.head(10)"
   ]
  },
  {
   "cell_type": "code",
   "execution_count": 128,
   "id": "f6cdfccb",
   "metadata": {},
   "outputs": [],
   "source": [
    "t11 = pd.read_csv(\"C:/Users/Bag's/Downloads/donnees/projet2/20%/DM_20_2018-2022_paludisme_SP.csv\")\n",
    "#t79.head(10)"
   ]
  },
  {
   "cell_type": "code",
   "execution_count": 129,
   "id": "7ad2be83",
   "metadata": {},
   "outputs": [
    {
     "name": "stdout",
     "output_type": "stream",
     "text": [
      "572\n"
     ]
    }
   ],
   "source": [
    "nb_nan12 = t11.isna().sum().sum()\n",
    "print(nb_nan12)"
   ]
  },
  {
   "cell_type": "code",
   "execution_count": 130,
   "id": "9f0f1d1b",
   "metadata": {},
   "outputs": [],
   "source": [
    "# Import the first table\n",
    "t10 = dg\n",
    "# Import the second table\n",
    "t9= t12\n",
    "# Create a new table containing the difference between each value of the cells\n",
    "dif12 = t10.copy()\n",
    "for column in t10.columns:\n",
    "    dif12[column] = t10[column] - t9[column]\n",
    "# Print the new table\n",
    "#print(dif1)"
   ]
  },
  {
   "cell_type": "code",
   "execution_count": 131,
   "id": "a066f891",
   "metadata": {},
   "outputs": [
    {
     "name": "stdout",
     "output_type": "stream",
     "text": [
      "34488.0\n"
     ]
    }
   ],
   "source": [
    "df_abs12= dif12.abs()\n",
    "# Calculate the sum of all the values\n",
    "sum_of_values12 = df_abs12.sum().sum()\n",
    "# Print the sum of the values\n",
    "print(sum_of_values12)"
   ]
  },
  {
   "cell_type": "code",
   "execution_count": 132,
   "id": "fe74309e",
   "metadata": {},
   "outputs": [
    {
     "name": "stdout",
     "output_type": "stream",
     "text": [
      "60.29370629370629\n"
     ]
    }
   ],
   "source": [
    "ratio_of_missing_values12 = sum_of_values12/nb_nan12\n",
    "print(ratio_of_missing_values12)"
   ]
  },
  {
   "cell_type": "code",
   "execution_count": 133,
   "id": "8720f62f",
   "metadata": {},
   "outputs": [
    {
     "name": "stdout",
     "output_type": "stream",
     "text": [
      "le ratio pour un taux de 5% est 46.97546140134376\n",
      "le ratio pour un taux de 10% est 50.81153160564925\n",
      "le ratio pour un taux de 20% est 60.29370629370629\n"
     ]
    }
   ],
   "source": [
    "print('le ratio pour un taux de 5% est',ratio_of_missing_values10)\n",
    "print('le ratio pour un taux de 10% est',ratio_of_missing_values11)\n",
    "print('le ratio pour un taux de 20% est',ratio_of_missing_values12)"
   ]
  },
  {
   "cell_type": "markdown",
   "id": "6d3ec240",
   "metadata": {},
   "source": [
    "histogramme methode par la missForest"
   ]
  },
  {
   "cell_type": "code",
   "execution_count": 134,
   "id": "1a2f8d54",
   "metadata": {},
   "outputs": [
    {
     "data": {
      "image/png": "[encoded data removed]",
      "text/plain": [
       "<Figure size 640x480 with 1 Axes>"
      ]
     },
     "metadata": {},
     "output_type": "display_data"
    }
   ],
   "source": [
    "# Create an empty plot\n",
    "fig=plt.figure()\n",
    "ax=fig.add_axes([0,0,1,1])\n",
    "taux=['5%','10%','20%']\n",
    "r10=ratio_of_missing_values10*0.01\n",
    "r11=ratio_of_missing_values11*0.01\n",
    "r12=ratio_of_missing_values12*0.01\n",
    "ratiaux=[r10,r11,r12]\n",
    "ax.set_xlabel(\"Taux des DM\")\n",
    "# Set the y-axis label\n",
    "ax.set_ylabel(\"Moyenne Absolue des Biais(MAB)\")\n",
    "ax.bar(taux,ratiaux,color='rosybrown',width=0.12)\n",
    "plt.grid(b=True, axis='y', alpha=0.2)\n",
    "# Show the plot\n",
    "\n",
    "plt.show()"
   ]
  },
  {
   "cell_type": "markdown",
   "id": "1baa76cb",
   "metadata": {},
   "source": [
    "donnee = pd.DataFrame([['5%', 0.2064, 0.2582, 0.2625, 0.3140],\n",
    "                       ['10%', 0.4680, 0.2029, 0.1600, 0.1328], \n",
    "                       ['20%', 0.6815, 0.2626, 0.2123, 0.2039]]\n",
    "                  ,columns=['Taux des DM','Mean', 'MICE', 'KNN', 'missForest'])"
   ]
  },
  {
   "cell_type": "markdown",
   "id": "27f09559",
   "metadata": {},
   "source": [
    "recap"
   ]
  },
  {
   "cell_type": "code",
   "execution_count": 157,
   "id": "2e8f2a1e",
   "metadata": {
    "scrolled": false
   },
   "outputs": [
    {
     "data": {
      "image/png": "[encoded data removed]",
      "text/plain": [
       "<Figure size 900x600 with 1 Axes>"
      ]
     },
     "metadata": {},
     "output_type": "display_data"
    }
   ],
   "source": [
    "# create data[0.3140,0.1328,0.2039][0.2625,0.1600,0.2123][0.2582,0.2029,0.2626][0.2064,0.4680,0.6815]\n",
    "#donnee = pd.DataFrame([['5%', r1, r4, r7, r10],\n",
    "                      # ['10%',r2, r5, r8, r11], \n",
    "                     #  ['20%', r3, r6, r9, r12]]\n",
    "                #  ,columns=['Taux des DM','Mean', 'MICE', 'KNN', 'missForest'])\n",
    "\n",
    "donnee = pd.DataFrame([['5%', 0.78, 0.69, 0.54, 0.46],\n",
    "                       ['10%',0.69, 0.64, 0.50, 0.50], \n",
    "                       ['20%', 0.74, 0.71, 0.60, 0.60]]\n",
    "                  ,columns=['Taux des DM','Mean', 'MICE', 'KNN', 'missForest'])\n",
    "# view data\n",
    "\n",
    "#print(donnee)\n",
    "# plot grouped bar chart\n",
    "donnee.plot(x='Taux des DM',kind='bar',stacked=False,\n",
    "            title='Histogramme comparatif des méthodes',figsize=(9,6),width=0.7,\n",
    "            color=['silver', 'lightcoral', 'lightsteelblue', 'rosybrown'])\n",
    "# add grid lines\n",
    "plt.grid(b=True, axis='y', alpha=0.2)\n",
    "plt.ylabel(\"Moyenne Absolue des Biais(MAB)\")\n",
    "plt.show()"
   ]
  },
  {
   "cell_type": "markdown",
   "id": "3633d6bb",
   "metadata": {},
   "source": [
    "courbe de differente me par pourcentage"
   ]
  },
  {
   "cell_type": "code",
   "execution_count": 41,
   "id": "aa16d420",
   "metadata": {
    "scrolled": false
   },
   "outputs": [],
   "source": [
    "data = pd.read_csv(\"C:/Users/Bag's/Downloads/donnees/projet2/Palu_Adamaoua_2018-2022.csv\")\n",
    "data1=pd.read_csv(\"C:/Users/Bag's/Downloads/donnees/projet2/5%/Mean5_2018-2022_paludisme_P.csv\")\n",
    "data2=pd.read_csv(\"C:/Users/Bag's/Downloads/donnees/projet2/5%/MICE5_2018-2022_paludisme_P.csv\")\n",
    "data3=pd.read_csv(\"C:/Users/Bag's/Downloads/donnees/projet2/5%/KNN5_2018-2022_paludisme_P.csv\")\n",
    "data4=pd.read_csv(\"C:/Users/Bag's/Downloads/donnees/projet2/5%/missF5_2018-2022_paludisme_P.csv\")"
   ]
  },
  {
   "cell_type": "code",
   "execution_count": 42,
   "id": "f14c634e",
   "metadata": {},
   "outputs": [
    {
     "data": {
      "text/html": [
       "<div>\n",
       "<style scoped>\n",
       "    .dataframe tbody tr th:only-of-type {\n",
       "        vertical-align: middle;\n",
       "    }\n",
       "\n",
       "    .dataframe tbody tr th {\n",
       "        vertical-align: top;\n",
       "    }\n",
       "\n",
       "    .dataframe thead th {\n",
       "        text-align: right;\n",
       "    }\n",
       "</style>\n",
       "<table border=\"1\" class=\"dataframe\">\n",
       "  <thead>\n",
       "    <tr style=\"text-align: right;\">\n",
       "      <th></th>\n",
       "      <th>periodid</th>\n",
       "      <th>Bankim</th>\n",
       "      <th>Banyo</th>\n",
       "      <th>Belel</th>\n",
       "      <th>Dang</th>\n",
       "      <th>Djohong</th>\n",
       "      <th>Meiganga</th>\n",
       "      <th>Ngaoundal</th>\n",
       "      <th>Ngaoundere_Rural</th>\n",
       "      <th>Ngaoundere_Urbain</th>\n",
       "      <th>Tibati</th>\n",
       "      <th>Tignere</th>\n",
       "      <th>Palu_Adamaoua_Mean_5</th>\n",
       "    </tr>\n",
       "  </thead>\n",
       "  <tbody>\n",
       "    <tr>\n",
       "      <th>0</th>\n",
       "      <td>2018-01-07</td>\n",
       "      <td>177.0</td>\n",
       "      <td>154.000000</td>\n",
       "      <td>120.0</td>\n",
       "      <td>93.0</td>\n",
       "      <td>156.0</td>\n",
       "      <td>320.0</td>\n",
       "      <td>169.0</td>\n",
       "      <td>306.0</td>\n",
       "      <td>536.0</td>\n",
       "      <td>180.0</td>\n",
       "      <td>176.0</td>\n",
       "      <td>4774.000000</td>\n",
       "    </tr>\n",
       "    <tr>\n",
       "      <th>1</th>\n",
       "      <td>2018-01-14</td>\n",
       "      <td>143.0</td>\n",
       "      <td>245.722449</td>\n",
       "      <td>175.0</td>\n",
       "      <td>134.0</td>\n",
       "      <td>174.0</td>\n",
       "      <td>283.0</td>\n",
       "      <td>206.0</td>\n",
       "      <td>266.0</td>\n",
       "      <td>500.0</td>\n",
       "      <td>182.0</td>\n",
       "      <td>193.0</td>\n",
       "      <td>5003.444898</td>\n",
       "    </tr>\n",
       "  </tbody>\n",
       "</table>\n",
       "</div>"
      ],
      "text/plain": [
       "     periodid  Bankim       Banyo  Belel   Dang  Djohong  Meiganga  Ngaoundal  \\\n",
       "0  2018-01-07   177.0  154.000000  120.0   93.0    156.0     320.0      169.0   \n",
       "1  2018-01-14   143.0  245.722449  175.0  134.0    174.0     283.0      206.0   \n",
       "\n",
       "   Ngaoundere_Rural  Ngaoundere_Urbain  Tibati  Tignere  Palu_Adamaoua_Mean_5  \n",
       "0             306.0              536.0   180.0    176.0           4774.000000  \n",
       "1             266.0              500.0   182.0    193.0           5003.444898  "
      ]
     },
     "execution_count": 42,
     "metadata": {},
     "output_type": "execute_result"
    }
   ],
   "source": [
    "data1.head(2)"
   ]
  },
  {
   "cell_type": "code",
   "execution_count": 39,
   "id": "84198a6a",
   "metadata": {},
   "outputs": [],
   "source": [
    "tmp = pd.to_datetime(data[\"periodid\"])\n",
    "x1 = tmp.dt.to_period('Y')"
   ]
  },
  {
   "cell_type": "code",
   "execution_count": 47,
   "id": "1265bb94",
   "metadata": {
    "scrolled": false
   },
   "outputs": [
    {
     "data": {
      "text/plain": [
       "<matplotlib.legend.Legend at 0x1925832d730>"
      ]
     },
     "execution_count": 47,
     "metadata": {},
     "output_type": "execute_result"
    },
    {
     "data": {
      "image/png": "[encoded data removed]",
      "text/plain": [
       "<Figure size 1000x600 with 1 Axes>"
      ]
     },
     "metadata": {},
     "output_type": "display_data"
    }
   ],
   "source": [
    "y1= data1[\"Palu_Adamaoua_Mean_5\"]\n",
    "y = data[\"Palu_Adamaoua\"]\n",
    "y2= data2[\"Palu_Adamaoua_MICE_5\"]\n",
    "y3= data3[\"Palu_Adamaoua_KNN_5\"]\n",
    "y4= data4[\"Palu_Adamaoua_missF_5\"]\n",
    "# Création de la figure\n",
    "\n",
    "fig, ax = plt.subplots(figsize=(10, 6))\n",
    "\n",
    "# Tracez les courbes\n",
    "ax.plot(tmp, y, label=\"Palu_Adamaoua\")\n",
    "#ax.plot(tmp, y1, label=\"Palu_Adamaoua_Mean_5\")\n",
    "#ax.plot(tmp, y2, label=\"Palu_Adamaoua_MICE_5\")\n",
    "#ax.plot(tmp, y3, label=\"Palu_Adamaoua_KNN_5\")\n",
    "ax.plot(tmp, y4, label=\"Palu_Adamaoua_missF_5\")\n",
    "\n",
    "# Ajouter des légendes\n",
    "plt.xlabel(\"Années\")\n",
    "plt.ylabel(\"Nombres des cas du paludisme\")\n",
    "plt.legend()\n",
    "\n",
    "# Agrandir la taille de la figure\n",
    "\n"
   ]
  },
  {
   "cell_type": "code",
   "execution_count": null,
   "id": "4756820e",
   "metadata": {},
   "outputs": [],
   "source": [
    "#y1= data1[\"Palu_Adamaoua_Mean_10\"]\n",
    "y = data[\"Palu_Adamaoua\"]\n",
    "y2= data2[\"Palu_Adamaoua_MICE_5\"]\n",
    "y3= data3[\"Palu_Adamaoua_KNN_5\"]\n",
    "y4= data4[\"Palu_Adamaoua_missF_5\"]\n",
    "# Création de la figure\n",
    "fig, ax = plt.subplots()\n",
    "#Average_cost\n",
    "# Tracé des courbes\n",
    "#ax.plot(tmp, y1, label=\"Palu_Adamaoua_Mean_5\")\n",
    "ax.plot(tmp,y, label=\"Palu_Adamaoua\")\n",
    "ax.plot(tmp,y2, label=\"Palu_Adamaoua_MICE_10\")\n",
    "ax.plot(tmp,y3, label=\"Palu_Adamaoua_KNN_10\")\n",
    "ax.plot(tmp,y4, label=\"Palu_Adamaoua_missF_10\")\n",
    "\n",
    "# Ajouter des légendes\n",
    "plt.legend()"
   ]
  }
 ],
 "metadata": {
  "kernelspec": {
   "display_name": "Python 3 (ipykernel)",
   "language": "python",
   "name": "python3"
  },
  "language_info": {
   "codemirror_mode": {
    "name": "ipython",
    "version": 3
   },
   "file_extension": ".py",
   "mimetype": "text/x-python",
   "name": "python",
   "nbconvert_exporter": "python",
   "pygments_lexer": "ipython3",
   "version": "3.9.13"
  }
 },
 "nbformat": 4,
 "nbformat_minor": 5
}
